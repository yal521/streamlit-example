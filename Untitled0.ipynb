{
  "nbformat": 4,
  "nbformat_minor": 0,
  "metadata": {
    "colab": {
      "provenance": [],
      "mount_file_id": "1anOeG5Hl7jwoEVXAKqwz9x00-pikB09P",
      "authorship_tag": "ABX9TyPl9goRwsyn6mZHBZE9IfOu",
      "include_colab_link": true
    },
    "kernelspec": {
      "name": "python3",
      "display_name": "Python 3"
    },
    "language_info": {
      "name": "python"
    }
  },
  "cells": [
    {
      "cell_type": "markdown",
      "metadata": {
        "id": "view-in-github",
        "colab_type": "text"
      },
      "source": [
        "<a href=\"https://colab.research.google.com/github/yal521/streamlit-example/blob/master/Untitled0.ipynb\" target=\"_parent\"><img src=\"https://colab.research.google.com/assets/colab-badge.svg\" alt=\"Open In Colab\"/></a>"
      ]
    },
    {
      "cell_type": "code",
      "source": [
        "!pip install streamlit"
      ],
      "metadata": {
        "colab": {
          "base_uri": "https://localhost:8080/"
        },
        "id": "9P4jMcDr2If8",
        "outputId": "a3aafaa4-3c36-4f00-9240-5306fc8d5f2a"
      },
      "execution_count": 1,
      "outputs": [
        {
          "output_type": "stream",
          "name": "stdout",
          "text": [
            "Looking in indexes: https://pypi.org/simple, https://us-python.pkg.dev/colab-wheels/public/simple/\n",
            "Collecting streamlit\n",
            "  Downloading streamlit-1.22.0-py2.py3-none-any.whl (8.9 MB)\n",
            "\u001b[2K     \u001b[90m━━━━━━━━━━━━━━━━━━━━━━━━━━━━━━━━━━━━━━━━\u001b[0m \u001b[32m8.9/8.9 MB\u001b[0m \u001b[31m47.4 MB/s\u001b[0m eta \u001b[36m0:00:00\u001b[0m\n",
            "\u001b[?25hCollecting gitpython!=3.1.19\n",
            "  Downloading GitPython-3.1.31-py3-none-any.whl (184 kB)\n",
            "\u001b[2K     \u001b[90m━━━━━━━━━━━━━━━━━━━━━━━━━━━━━━━━━━━━━━\u001b[0m \u001b[32m184.3/184.3 kB\u001b[0m \u001b[31m17.8 MB/s\u001b[0m eta \u001b[36m0:00:00\u001b[0m\n",
            "\u001b[?25hCollecting blinker>=1.0.0\n",
            "  Downloading blinker-1.6.2-py3-none-any.whl (13 kB)\n",
            "Requirement already satisfied: cachetools>=4.0 in /usr/local/lib/python3.10/dist-packages (from streamlit) (5.3.0)\n",
            "Requirement already satisfied: tornado>=6.0.3 in /usr/local/lib/python3.10/dist-packages (from streamlit) (6.2)\n",
            "Requirement already satisfied: typing-extensions>=3.10.0.0 in /usr/local/lib/python3.10/dist-packages (from streamlit) (4.5.0)\n",
            "Requirement already satisfied: pandas<3,>=0.25 in /usr/local/lib/python3.10/dist-packages (from streamlit) (1.5.3)\n",
            "Requirement already satisfied: packaging>=14.1 in /usr/local/lib/python3.10/dist-packages (from streamlit) (23.1)\n",
            "Requirement already satisfied: pillow>=6.2.0 in /usr/local/lib/python3.10/dist-packages (from streamlit) (8.4.0)\n",
            "Collecting validators>=0.2\n",
            "  Downloading validators-0.20.0.tar.gz (30 kB)\n",
            "  Preparing metadata (setup.py) ... \u001b[?25l\u001b[?25hdone\n",
            "Collecting importlib-metadata>=1.4\n",
            "  Downloading importlib_metadata-6.6.0-py3-none-any.whl (22 kB)\n",
            "Requirement already satisfied: pyarrow>=4.0 in /usr/local/lib/python3.10/dist-packages (from streamlit) (9.0.0)\n",
            "Requirement already satisfied: python-dateutil in /usr/local/lib/python3.10/dist-packages (from streamlit) (2.8.2)\n",
            "Requirement already satisfied: tzlocal>=1.1 in /usr/local/lib/python3.10/dist-packages (from streamlit) (4.3)\n",
            "Requirement already satisfied: numpy in /usr/local/lib/python3.10/dist-packages (from streamlit) (1.22.4)\n",
            "Requirement already satisfied: rich>=10.11.0 in /usr/local/lib/python3.10/dist-packages (from streamlit) (13.3.4)\n",
            "Collecting pydeck>=0.1.dev5\n",
            "  Downloading pydeck-0.8.1b0-py2.py3-none-any.whl (4.8 MB)\n",
            "\u001b[2K     \u001b[90m━━━━━━━━━━━━━━━━━━━━━━━━━━━━━━━━━━━━━━━━\u001b[0m \u001b[32m4.8/4.8 MB\u001b[0m \u001b[31m95.3 MB/s\u001b[0m eta \u001b[36m0:00:00\u001b[0m\n",
            "\u001b[?25hCollecting watchdog\n",
            "  Downloading watchdog-3.0.0-py3-none-manylinux2014_x86_64.whl (82 kB)\n",
            "\u001b[2K     \u001b[90m━━━━━━━━━━━━━━━━━━━━━━━━━━━━━━━━━━━━━━━━\u001b[0m \u001b[32m82.1/82.1 kB\u001b[0m \u001b[31m10.3 MB/s\u001b[0m eta \u001b[36m0:00:00\u001b[0m\n",
            "\u001b[?25hRequirement already satisfied: click>=7.0 in /usr/local/lib/python3.10/dist-packages (from streamlit) (8.1.3)\n",
            "Requirement already satisfied: altair<5,>=3.2.0 in /usr/local/lib/python3.10/dist-packages (from streamlit) (4.2.2)\n",
            "Requirement already satisfied: requests>=2.4 in /usr/local/lib/python3.10/dist-packages (from streamlit) (2.27.1)\n",
            "Requirement already satisfied: protobuf<4,>=3.12 in /usr/local/lib/python3.10/dist-packages (from streamlit) (3.20.3)\n",
            "Requirement already satisfied: tenacity<9,>=8.0.0 in /usr/local/lib/python3.10/dist-packages (from streamlit) (8.2.2)\n",
            "Requirement already satisfied: toml in /usr/local/lib/python3.10/dist-packages (from streamlit) (0.10.2)\n",
            "Collecting pympler>=0.9\n",
            "  Downloading Pympler-1.0.1-py3-none-any.whl (164 kB)\n",
            "\u001b[2K     \u001b[90m━━━━━━━━━━━━━━━━━━━━━━━━━━━━━━━━━━━━━━\u001b[0m \u001b[32m164.8/164.8 kB\u001b[0m \u001b[31m19.1 MB/s\u001b[0m eta \u001b[36m0:00:00\u001b[0m\n",
            "\u001b[?25hRequirement already satisfied: toolz in /usr/local/lib/python3.10/dist-packages (from altair<5,>=3.2.0->streamlit) (0.12.0)\n",
            "Requirement already satisfied: jinja2 in /usr/local/lib/python3.10/dist-packages (from altair<5,>=3.2.0->streamlit) (3.1.2)\n",
            "Requirement already satisfied: jsonschema>=3.0 in /usr/local/lib/python3.10/dist-packages (from altair<5,>=3.2.0->streamlit) (4.3.3)\n",
            "Requirement already satisfied: entrypoints in /usr/local/lib/python3.10/dist-packages (from altair<5,>=3.2.0->streamlit) (0.4)\n",
            "Collecting gitdb<5,>=4.0.1\n",
            "  Downloading gitdb-4.0.10-py3-none-any.whl (62 kB)\n",
            "\u001b[2K     \u001b[90m━━━━━━━━━━━━━━━━━━━━━━━━━━━━━━━━━━━━━━━━\u001b[0m \u001b[32m62.7/62.7 kB\u001b[0m \u001b[31m7.7 MB/s\u001b[0m eta \u001b[36m0:00:00\u001b[0m\n",
            "\u001b[?25hRequirement already satisfied: zipp>=0.5 in /usr/local/lib/python3.10/dist-packages (from importlib-metadata>=1.4->streamlit) (3.15.0)\n",
            "Requirement already satisfied: pytz>=2020.1 in /usr/local/lib/python3.10/dist-packages (from pandas<3,>=0.25->streamlit) (2022.7.1)\n",
            "Requirement already satisfied: six>=1.5 in /usr/local/lib/python3.10/dist-packages (from python-dateutil->streamlit) (1.16.0)\n",
            "Requirement already satisfied: idna<4,>=2.5 in /usr/local/lib/python3.10/dist-packages (from requests>=2.4->streamlit) (3.4)\n",
            "Requirement already satisfied: charset-normalizer~=2.0.0 in /usr/local/lib/python3.10/dist-packages (from requests>=2.4->streamlit) (2.0.12)\n",
            "Requirement already satisfied: urllib3<1.27,>=1.21.1 in /usr/local/lib/python3.10/dist-packages (from requests>=2.4->streamlit) (1.26.15)\n",
            "Requirement already satisfied: certifi>=2017.4.17 in /usr/local/lib/python3.10/dist-packages (from requests>=2.4->streamlit) (2022.12.7)\n",
            "Requirement already satisfied: pygments<3.0.0,>=2.13.0 in /usr/local/lib/python3.10/dist-packages (from rich>=10.11.0->streamlit) (2.14.0)\n",
            "Requirement already satisfied: markdown-it-py<3.0.0,>=2.2.0 in /usr/local/lib/python3.10/dist-packages (from rich>=10.11.0->streamlit) (2.2.0)\n",
            "Requirement already satisfied: pytz-deprecation-shim in /usr/local/lib/python3.10/dist-packages (from tzlocal>=1.1->streamlit) (0.1.0.post0)\n",
            "Requirement already satisfied: decorator>=3.4.0 in /usr/local/lib/python3.10/dist-packages (from validators>=0.2->streamlit) (4.4.2)\n",
            "Collecting smmap<6,>=3.0.1\n",
            "  Downloading smmap-5.0.0-py3-none-any.whl (24 kB)\n",
            "Requirement already satisfied: MarkupSafe>=2.0 in /usr/local/lib/python3.10/dist-packages (from jinja2->altair<5,>=3.2.0->streamlit) (2.1.2)\n",
            "Requirement already satisfied: attrs>=17.4.0 in /usr/local/lib/python3.10/dist-packages (from jsonschema>=3.0->altair<5,>=3.2.0->streamlit) (23.1.0)\n",
            "Requirement already satisfied: pyrsistent!=0.17.0,!=0.17.1,!=0.17.2,>=0.14.0 in /usr/local/lib/python3.10/dist-packages (from jsonschema>=3.0->altair<5,>=3.2.0->streamlit) (0.19.3)\n",
            "Requirement already satisfied: mdurl~=0.1 in /usr/local/lib/python3.10/dist-packages (from markdown-it-py<3.0.0,>=2.2.0->rich>=10.11.0->streamlit) (0.1.2)\n",
            "Requirement already satisfied: tzdata in /usr/local/lib/python3.10/dist-packages (from pytz-deprecation-shim->tzlocal>=1.1->streamlit) (2023.3)\n",
            "Building wheels for collected packages: validators\n",
            "  Building wheel for validators (setup.py) ... \u001b[?25l\u001b[?25hdone\n",
            "  Created wheel for validators: filename=validators-0.20.0-py3-none-any.whl size=19579 sha256=cc487f646508719f12fbaf0160d979b7693e3ba2429fe888d27738bbcab8b6f4\n",
            "  Stored in directory: /root/.cache/pip/wheels/f2/ed/dd/d3a556ad245ef9dc570c6bcd2f22886d17b0b408dd3bbb9ac3\n",
            "Successfully built validators\n",
            "Installing collected packages: watchdog, validators, smmap, pympler, importlib-metadata, blinker, pydeck, gitdb, gitpython, streamlit\n",
            "Successfully installed blinker-1.6.2 gitdb-4.0.10 gitpython-3.1.31 importlib-metadata-6.6.0 pydeck-0.8.1b0 pympler-1.0.1 smmap-5.0.0 streamlit-1.22.0 validators-0.20.0 watchdog-3.0.0\n"
          ]
        }
      ]
    },
    {
      "cell_type": "code",
      "execution_count": 2,
      "metadata": {
        "id": "32j7EUVJzitB"
      },
      "outputs": [],
      "source": [
        "import tensorflow as tf\n",
        "import pandas as pd\n",
        "import streamlit as st\n",
        "data = pd.read_csv(\"/content/drive/MyDrive/data.csv\")\n",
        "input_sequence = data.iloc[:, 0:-1].values\n",
        "output_sequence = data.iloc[:, -1].values\n",
        "from sklearn.model_selection import train_test_split\n",
        "X_train, X_test, y_train, y_test = train_test_split(input_sequence, output_sequence, test_size=0.2)\n"
      ]
    },
    {
      "cell_type": "code",
      "source": [
        "from sklearn.model_selection import train_test_split\n",
        "X_train, X_test, y_train, y_test = train_test_split(input_sequence, output_sequence, test_size=0.2)\n"
      ],
      "metadata": {
        "id": "Ztfnw-uE0D7J"
      },
      "execution_count": 3,
      "outputs": []
    },
    {
      "cell_type": "code",
      "source": [
        "from sklearn.preprocessing import MinMaxScaler\n",
        "scaler = MinMaxScaler(feature_range=(0, 1))\n",
        "X_train = scaler.fit_transform(X_train)\n",
        "X_test = scaler.transform(X_test)\n"
      ],
      "metadata": {
        "id": "J7WK3gxY0GZX"
      },
      "execution_count": 4,
      "outputs": []
    },
    {
      "cell_type": "code",
      "source": [
        "model = tf.keras.models.Sequential()\n",
        "model.add(tf.keras.layers.LSTM(units=50, return_sequences=True, input_shape=(X_train.shape[1], 1)))\n",
        "model.add(tf.keras.layers.Dropout(0.2))\n",
        "model.add(tf.keras.layers.LSTM(units=50, return_sequences=True))\n",
        "model.add(tf.keras.layers.Dropout(0.2))\n",
        "model.add(tf.keras.layers.LSTM(units=50, return_sequences=True))\n",
        "model.add(tf.keras.layers.Dropout(0.2))\n",
        "model.add(tf.keras.layers.LSTM(units=50))\n",
        "model.add(tf.keras.layers.Dropout(0.2))\n",
        "model.add(tf.keras.layers.Dense(units=1))\n"
      ],
      "metadata": {
        "id": "I6EGf6g60MBP"
      },
      "execution_count": 5,
      "outputs": []
    },
    {
      "cell_type": "code",
      "source": [
        "model.compile(optimizer='adam', loss='mean_squared_error')\n"
      ],
      "metadata": {
        "id": "XqnlxYeK0PPy"
      },
      "execution_count": 6,
      "outputs": []
    },
    {
      "cell_type": "code",
      "source": [
        "history = model.fit(X_train, y_train, epochs=100, batch_size=32, validation_data=(X_test, y_test))\n"
      ],
      "metadata": {
        "colab": {
          "base_uri": "https://localhost:8080/"
        },
        "id": "IVN0bwAI0THz",
        "outputId": "28ba6b26-a3ec-43e2-b4b3-df2e09d09fcc"
      },
      "execution_count": 7,
      "outputs": [
        {
          "output_type": "stream",
          "name": "stdout",
          "text": [
            "Epoch 1/100\n",
            "1/1 [==============================] - 11s 11s/step - loss: 0.5699 - val_loss: 0.2426\n",
            "Epoch 2/100\n",
            "1/1 [==============================] - 0s 55ms/step - loss: 0.5482 - val_loss: 0.2332\n",
            "Epoch 3/100\n",
            "1/1 [==============================] - 0s 49ms/step - loss: 0.5282 - val_loss: 0.2233\n",
            "Epoch 4/100\n",
            "1/1 [==============================] - 0s 49ms/step - loss: 0.4966 - val_loss: 0.2130\n",
            "Epoch 5/100\n",
            "1/1 [==============================] - 0s 53ms/step - loss: 0.4795 - val_loss: 0.2020\n",
            "Epoch 6/100\n",
            "1/1 [==============================] - 0s 61ms/step - loss: 0.4415 - val_loss: 0.1904\n",
            "Epoch 7/100\n",
            "1/1 [==============================] - 0s 50ms/step - loss: 0.4040 - val_loss: 0.1780\n",
            "Epoch 8/100\n",
            "1/1 [==============================] - 0s 51ms/step - loss: 0.3868 - val_loss: 0.1649\n",
            "Epoch 9/100\n",
            "1/1 [==============================] - 0s 50ms/step - loss: 0.3426 - val_loss: 0.1510\n",
            "Epoch 10/100\n",
            "1/1 [==============================] - 0s 62ms/step - loss: 0.3083 - val_loss: 0.1361\n",
            "Epoch 11/100\n",
            "1/1 [==============================] - 0s 56ms/step - loss: 0.2538 - val_loss: 0.1205\n",
            "Epoch 12/100\n",
            "1/1 [==============================] - 0s 50ms/step - loss: 0.2014 - val_loss: 0.1042\n",
            "Epoch 13/100\n",
            "1/1 [==============================] - 0s 51ms/step - loss: 0.1692 - val_loss: 0.0873\n",
            "Epoch 14/100\n",
            "1/1 [==============================] - 0s 51ms/step - loss: 0.1249 - val_loss: 0.0702\n",
            "Epoch 15/100\n",
            "1/1 [==============================] - 0s 50ms/step - loss: 0.0602 - val_loss: 0.0533\n",
            "Epoch 16/100\n",
            "1/1 [==============================] - 0s 53ms/step - loss: 0.0274 - val_loss: 0.0375\n",
            "Epoch 17/100\n",
            "1/1 [==============================] - 0s 53ms/step - loss: 0.0113 - val_loss: 0.0236\n",
            "Epoch 18/100\n",
            "1/1 [==============================] - 0s 56ms/step - loss: 0.0168 - val_loss: 0.0135\n",
            "Epoch 19/100\n",
            "1/1 [==============================] - 0s 68ms/step - loss: 0.0474 - val_loss: 0.0079\n",
            "Epoch 20/100\n",
            "1/1 [==============================] - 0s 56ms/step - loss: 0.2315 - val_loss: 0.0071\n",
            "Epoch 21/100\n",
            "1/1 [==============================] - 0s 58ms/step - loss: 0.0472 - val_loss: 0.0073\n",
            "Epoch 22/100\n",
            "1/1 [==============================] - 0s 51ms/step - loss: 0.0475 - val_loss: 0.0084\n",
            "Epoch 23/100\n",
            "1/1 [==============================] - 0s 53ms/step - loss: 0.0311 - val_loss: 0.0103\n",
            "Epoch 24/100\n",
            "1/1 [==============================] - 0s 53ms/step - loss: 0.0129 - val_loss: 0.0126\n",
            "Epoch 25/100\n",
            "1/1 [==============================] - 0s 52ms/step - loss: 0.0259 - val_loss: 0.0153\n",
            "Epoch 26/100\n",
            "1/1 [==============================] - 0s 52ms/step - loss: 0.0096 - val_loss: 0.0177\n",
            "Epoch 27/100\n",
            "1/1 [==============================] - 0s 48ms/step - loss: 0.0128 - val_loss: 0.0195\n",
            "Epoch 28/100\n",
            "1/1 [==============================] - 0s 56ms/step - loss: 0.0146 - val_loss: 0.0207\n",
            "Epoch 29/100\n",
            "1/1 [==============================] - 0s 48ms/step - loss: 0.0191 - val_loss: 0.0212\n",
            "Epoch 30/100\n",
            "1/1 [==============================] - 0s 55ms/step - loss: 0.0212 - val_loss: 0.0210\n",
            "Epoch 31/100\n",
            "1/1 [==============================] - 0s 55ms/step - loss: 0.0099 - val_loss: 0.0203\n",
            "Epoch 32/100\n",
            "1/1 [==============================] - 0s 51ms/step - loss: 0.0260 - val_loss: 0.0192\n",
            "Epoch 33/100\n",
            "1/1 [==============================] - 0s 55ms/step - loss: 0.0253 - val_loss: 0.0174\n",
            "Epoch 34/100\n",
            "1/1 [==============================] - 0s 54ms/step - loss: 0.0086 - val_loss: 0.0154\n",
            "Epoch 35/100\n",
            "1/1 [==============================] - 0s 53ms/step - loss: 0.0131 - val_loss: 0.0132\n",
            "Epoch 36/100\n",
            "1/1 [==============================] - 0s 52ms/step - loss: 0.0214 - val_loss: 0.0108\n",
            "Epoch 37/100\n",
            "1/1 [==============================] - 0s 61ms/step - loss: 0.0161 - val_loss: 0.0084\n",
            "Epoch 38/100\n",
            "1/1 [==============================] - 0s 51ms/step - loss: 0.0066 - val_loss: 0.0061\n",
            "Epoch 39/100\n",
            "1/1 [==============================] - 0s 53ms/step - loss: 0.0067 - val_loss: 0.0042\n",
            "Epoch 40/100\n",
            "1/1 [==============================] - 0s 52ms/step - loss: 0.0038 - val_loss: 0.0026\n",
            "Epoch 41/100\n",
            "1/1 [==============================] - 0s 58ms/step - loss: 0.0029 - val_loss: 0.0015\n",
            "Epoch 42/100\n",
            "1/1 [==============================] - 0s 55ms/step - loss: 0.0051 - val_loss: 7.8388e-04\n",
            "Epoch 43/100\n",
            "1/1 [==============================] - 0s 49ms/step - loss: 0.0020 - val_loss: 3.3280e-04\n",
            "Epoch 44/100\n",
            "1/1 [==============================] - 0s 51ms/step - loss: 0.0026 - val_loss: 1.0083e-04\n",
            "Epoch 45/100\n",
            "1/1 [==============================] - 0s 49ms/step - loss: 0.0011 - val_loss: 1.0465e-05\n",
            "Epoch 46/100\n",
            "1/1 [==============================] - 0s 68ms/step - loss: 0.0055 - val_loss: 4.9585e-07\n",
            "Epoch 47/100\n",
            "1/1 [==============================] - 0s 55ms/step - loss: 0.0037 - val_loss: 6.6336e-06\n",
            "Epoch 48/100\n",
            "1/1 [==============================] - 0s 58ms/step - loss: 0.0068 - val_loss: 3.0498e-06\n",
            "Epoch 49/100\n",
            "1/1 [==============================] - 0s 50ms/step - loss: 0.0195 - val_loss: 9.8250e-06\n",
            "Epoch 50/100\n",
            "1/1 [==============================] - 0s 50ms/step - loss: 0.0037 - val_loss: 6.0517e-05\n",
            "Epoch 51/100\n",
            "1/1 [==============================] - 0s 56ms/step - loss: 0.0088 - val_loss: 1.9295e-04\n",
            "Epoch 52/100\n",
            "1/1 [==============================] - 0s 51ms/step - loss: 0.0033 - val_loss: 3.6465e-04\n",
            "Epoch 53/100\n",
            "1/1 [==============================] - 0s 49ms/step - loss: 0.0018 - val_loss: 5.6083e-04\n",
            "Epoch 54/100\n",
            "1/1 [==============================] - 0s 52ms/step - loss: 0.0020 - val_loss: 7.4625e-04\n",
            "Epoch 55/100\n",
            "1/1 [==============================] - 0s 53ms/step - loss: 0.0088 - val_loss: 8.4004e-04\n",
            "Epoch 56/100\n",
            "1/1 [==============================] - 0s 53ms/step - loss: 0.0061 - val_loss: 8.1302e-04\n",
            "Epoch 57/100\n",
            "1/1 [==============================] - 0s 51ms/step - loss: 0.0020 - val_loss: 7.7823e-04\n",
            "Epoch 58/100\n",
            "1/1 [==============================] - 0s 52ms/step - loss: 0.0011 - val_loss: 7.2629e-04\n",
            "Epoch 59/100\n",
            "1/1 [==============================] - 0s 52ms/step - loss: 0.0063 - val_loss: 6.2780e-04\n",
            "Epoch 60/100\n",
            "1/1 [==============================] - 0s 52ms/step - loss: 2.2678e-04 - val_loss: 5.3159e-04\n",
            "Epoch 61/100\n",
            "1/1 [==============================] - 0s 61ms/step - loss: 9.4770e-04 - val_loss: 4.2729e-04\n",
            "Epoch 62/100\n",
            "1/1 [==============================] - 0s 51ms/step - loss: 0.0087 - val_loss: 3.2806e-04\n",
            "Epoch 63/100\n",
            "1/1 [==============================] - 0s 58ms/step - loss: 0.0025 - val_loss: 2.3212e-04\n",
            "Epoch 64/100\n",
            "1/1 [==============================] - 0s 54ms/step - loss: 0.0111 - val_loss: 1.4339e-04\n",
            "Epoch 65/100\n",
            "1/1 [==============================] - 0s 56ms/step - loss: 0.0038 - val_loss: 5.1780e-05\n",
            "Epoch 66/100\n",
            "1/1 [==============================] - 0s 58ms/step - loss: 0.0014 - val_loss: 1.0555e-05\n",
            "Epoch 67/100\n",
            "1/1 [==============================] - 0s 53ms/step - loss: 0.0021 - val_loss: 2.2073e-06\n",
            "Epoch 68/100\n",
            "1/1 [==============================] - 0s 53ms/step - loss: 0.0025 - val_loss: 2.6718e-05\n",
            "Epoch 69/100\n",
            "1/1 [==============================] - 0s 54ms/step - loss: 0.0015 - val_loss: 5.5887e-05\n",
            "Epoch 70/100\n",
            "1/1 [==============================] - 0s 54ms/step - loss: 0.0101 - val_loss: 6.9492e-05\n",
            "Epoch 71/100\n",
            "1/1 [==============================] - 0s 52ms/step - loss: 0.0028 - val_loss: 6.6763e-05\n",
            "Epoch 72/100\n",
            "1/1 [==============================] - 0s 51ms/step - loss: 0.0111 - val_loss: 5.1475e-05\n",
            "Epoch 73/100\n",
            "1/1 [==============================] - 0s 50ms/step - loss: 0.0047 - val_loss: 2.4037e-05\n",
            "Epoch 74/100\n",
            "1/1 [==============================] - 0s 54ms/step - loss: 0.0017 - val_loss: 7.2989e-06\n",
            "Epoch 75/100\n",
            "1/1 [==============================] - 0s 53ms/step - loss: 0.0026 - val_loss: 5.9332e-07\n",
            "Epoch 76/100\n",
            "1/1 [==============================] - 0s 52ms/step - loss: 0.0020 - val_loss: 1.0661e-07\n",
            "Epoch 77/100\n",
            "1/1 [==============================] - 0s 49ms/step - loss: 0.0095 - val_loss: 4.8210e-07\n",
            "Epoch 78/100\n",
            "1/1 [==============================] - 0s 52ms/step - loss: 5.8073e-04 - val_loss: 1.4274e-06\n",
            "Epoch 79/100\n",
            "1/1 [==============================] - 0s 49ms/step - loss: 0.0083 - val_loss: 4.3136e-08\n",
            "Epoch 80/100\n",
            "1/1 [==============================] - 0s 51ms/step - loss: 0.0067 - val_loss: 9.0926e-08\n",
            "Epoch 81/100\n",
            "1/1 [==============================] - 0s 65ms/step - loss: 0.0099 - val_loss: 1.4816e-05\n",
            "Epoch 82/100\n",
            "1/1 [==============================] - 0s 53ms/step - loss: 0.0025 - val_loss: 6.0156e-05\n",
            "Epoch 83/100\n",
            "1/1 [==============================] - 0s 52ms/step - loss: 0.0138 - val_loss: 1.6599e-04\n",
            "Epoch 84/100\n",
            "1/1 [==============================] - 0s 57ms/step - loss: 0.0068 - val_loss: 3.4758e-04\n",
            "Epoch 85/100\n",
            "1/1 [==============================] - 0s 59ms/step - loss: 0.0034 - val_loss: 5.0476e-04\n",
            "Epoch 86/100\n",
            "1/1 [==============================] - 0s 58ms/step - loss: 9.2969e-04 - val_loss: 6.1804e-04\n",
            "Epoch 87/100\n",
            "1/1 [==============================] - 0s 54ms/step - loss: 0.0047 - val_loss: 5.8393e-04\n",
            "Epoch 88/100\n",
            "1/1 [==============================] - 0s 59ms/step - loss: 0.0102 - val_loss: 4.1816e-04\n",
            "Epoch 89/100\n",
            "1/1 [==============================] - 0s 85ms/step - loss: 0.0013 - val_loss: 2.7142e-04\n",
            "Epoch 90/100\n",
            "1/1 [==============================] - 0s 80ms/step - loss: 0.0013 - val_loss: 1.7214e-04\n",
            "Epoch 91/100\n",
            "1/1 [==============================] - 0s 70ms/step - loss: 0.0034 - val_loss: 5.7971e-05\n",
            "Epoch 92/100\n",
            "1/1 [==============================] - 0s 71ms/step - loss: 0.0025 - val_loss: 1.0427e-06\n",
            "Epoch 93/100\n",
            "1/1 [==============================] - 0s 75ms/step - loss: 5.2949e-04 - val_loss: 1.8218e-05\n",
            "Epoch 94/100\n",
            "1/1 [==============================] - 0s 70ms/step - loss: 0.0060 - val_loss: 5.3947e-05\n",
            "Epoch 95/100\n",
            "1/1 [==============================] - 0s 78ms/step - loss: 0.0149 - val_loss: 7.7859e-05\n",
            "Epoch 96/100\n",
            "1/1 [==============================] - 0s 70ms/step - loss: 0.0058 - val_loss: 1.7416e-04\n",
            "Epoch 97/100\n",
            "1/1 [==============================] - 0s 66ms/step - loss: 0.0026 - val_loss: 2.9366e-04\n",
            "Epoch 98/100\n",
            "1/1 [==============================] - 0s 83ms/step - loss: 0.0183 - val_loss: 2.8646e-04\n",
            "Epoch 99/100\n",
            "1/1 [==============================] - 0s 66ms/step - loss: 0.0080 - val_loss: 2.4205e-04\n",
            "Epoch 100/100\n",
            "1/1 [==============================] - 0s 68ms/step - loss: 0.0020 - val_loss: 1.7184e-04\n"
          ]
        }
      ]
    },
    {
      "cell_type": "code",
      "source": [
        "new_data = [[0.2, 0.3, 0.4, 0.5,0.6], [0.3, 0.4, 0.5, 0.6,0.7]]\n",
        "new_data = scaler.transform(new_data)\n",
        "prediction = model.predict(new_data)\n"
      ],
      "metadata": {
        "colab": {
          "base_uri": "https://localhost:8080/"
        },
        "id": "nn12q6rM0VjZ",
        "outputId": "a44f3529-5582-4a37-cc74-d608a4a86056"
      },
      "execution_count": 9,
      "outputs": [
        {
          "output_type": "stream",
          "name": "stdout",
          "text": [
            "1/1 [==============================] - 2s 2s/step\n"
          ]
        }
      ]
    },
    {
      "cell_type": "code",
      "source": [
        "st.title(\"LSTM Prediction Model\")\n",
        "input_data = st.text_input(\"Enter input data:\")\n",
        "if input_data:\n",
        "    input_data = [[float(x) for x in input_data.split(\",\")]]\n",
        "    input_data = scaler.transform(input_data)\n",
        "    prediction = model.predict(input_data)\n",
        "    st.write(\"The predicted output is\", prediction[0][0])\n"
      ],
      "metadata": {
        "colab": {
          "base_uri": "https://localhost:8080/"
        },
        "id": "Z4suG9dN0ZfA",
        "outputId": "388fbed0-3933-4eeb-db70-a0f6f8fbed7d"
      },
      "execution_count": 10,
      "outputs": [
        {
          "output_type": "stream",
          "name": "stderr",
          "text": [
            "2023-05-05 03:00:17.772 \n",
            "  \u001b[33m\u001b[1mWarning:\u001b[0m to view this Streamlit app on a browser, run it with the following\n",
            "  command:\n",
            "\n",
            "    streamlit run /usr/local/lib/python3.10/dist-packages/ipykernel_launcher.py [ARGUMENTS]\n"
          ]
        }
      ]
    }
  ]
}